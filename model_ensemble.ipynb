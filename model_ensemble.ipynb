{
 "cells": [
  {
   "cell_type": "code",
   "execution_count": 1,
   "metadata": {},
   "outputs": [
    {
     "data": {
      "text/plain": [
       "device(type='cuda')"
      ]
     },
     "execution_count": 1,
     "metadata": {},
     "output_type": "execute_result"
    }
   ],
   "source": [
    "import gc\n",
    "import os\n",
    "import cv2\n",
    "import sys\n",
    "import json\n",
    "import tqdm\n",
    "import time\n",
    "import mindspore\n",
    "import random\n",
    "import sklearn.metrics\n",
    "\n",
    "from PIL import Image\n",
    "from pathlib import Path\n",
    "from functools import partial\n",
    "from contextlib import contextmanager\n",
    "\n",
    "import numpy as np\n",
    "import scipy as sp\n",
    "import pandas as pd\n",
    "import mindspore.nn as nn\n",
    "\n",
    "from mindspore.optim import Adam, SGD\n",
    "from scipy.special import softmax\n",
    "from mindspore.utils.data import DataLoader, Dataset\n",
    "from albumentations import Compose, Normalize, Resize\n",
    "from mindspore.optim.lr_scheduler import CosineAnnealingLR\n",
    "from sklearn.metrics import f1_score, accuracy_score, top_k_accuracy_score\n",
    "from math import radians,cos,sin,asin,sqrt,pi\n",
    "import mindspore.optim as optim\n",
    "import mindspore.utils.data as data\n",
    "import shutil\n",
    "seed = 2022\n",
    "random.seed(seed)\n",
    "np.random.seed(seed)\n",
    "mindspore.manual_seed(seed)\n",
    "\n",
    "os.environ[\"CUDA_VISIBLE_DEVICES\"]=\"0\"\n",
    "device = mindspore.device('cuda' if mindspore.cuda.is_available() else 'cpu')\n",
    "device"
   ]
  },
  {
   "cell_type": "code",
   "execution_count": 2,
   "metadata": {},
   "outputs": [],
   "source": [
    "all_data1 = pd.read_csv('./all_data_logits/swin_large.csv')\n",
    "all_data2 = pd.read_csv('./all_data_logits/swin_base.csv')\n",
    "all_data3 = pd.read_csv('./all_data_logits/eff_b6.csv')\n",
    "all_data4 = pd.read_csv('./all_data_logits/eff_b7.csv')\n",
    "all_data5 = pd.read_csv('./all_data_logits/beit.csv')"
   ]
  },
  {
   "cell_type": "code",
   "execution_count": 3,
   "metadata": {},
   "outputs": [],
   "source": [
    "group_scores2 = all_data5.groupby(['ObservationId']).mean().reset_index()"
   ]
  },
  {
   "cell_type": "code",
   "execution_count": 4,
   "metadata": {},
   "outputs": [],
   "source": [
    "preds_raw = all_data4.iloc[:,1:]+all_data3.iloc[:,1:]+all_data1.iloc[:,1:]+all_data2.iloc[:,1:] \n",
    "scores = pd.concat([all_data1['ObservationId'], preds_raw], axis=1)\n",
    "group_scores = scores.groupby(['ObservationId']).mean().reset_index()\n",
    "\n",
    "\n",
    "submit = pd.DataFrame()\n",
    "# ObservationId,ClassId\n",
    "submit['ObservationId'] = group_scores['ObservationId']\n",
    "submit['ClassId'] = np.argmax(np.array(group_scores.iloc[:, 1:]+group_scores2.iloc[:, 1:]), axis=1)"
   ]
  },
  {
   "cell_type": "code",
   "execution_count": 5,
   "metadata": {},
   "outputs": [
    {
     "name": "stdout",
     "output_type": "stream",
     "text": [
      "38199\n",
      "32371\n",
      "54213\n",
      "54213\n",
      "45533\n",
      "45533\n",
      "45533\n",
      "45533\n",
      "45533\n",
      "45533\n",
      "45533\n",
      "45533\n",
      "45533\n",
      "45533\n",
      "56729\n",
      "56729\n",
      "3833\n",
      "3833\n",
      "3833\n",
      "3833\n",
      "3833\n",
      "3833\n",
      "3833\n",
      "3833\n",
      "3833\n",
      "38521\n"
     ]
    }
   ],
   "source": [
    "test_metadata = pd.read_csv(\"/home/data3/changhao/Datasets/FGVC2022_Fungi/FungiCLEF2022_test_metadata.csv\")\n",
    "for i in list(test_metadata[test_metadata['Substrate']=='spiders']['ObservationId']):\n",
    "    print(submit[submit[\"ObservationId\"]==i].index[0])\n",
    "    submit.loc[submit[submit[\"ObservationId\"]==i].index[0],'ClassId'] = -1\n",
    "\n",
    "\n",
    "submit.to_csv('final_result.csv', index=False, header=True)"
   ]
  },
  {
   "cell_type": "code",
   "execution_count": 6,
   "metadata": {},
   "outputs": [
    {
     "data": {
      "text/html": [
       "<div>\n",
       "<style scoped>\n",
       "    .dataframe tbody tr th:only-of-type {\n",
       "        vertical-align: middle;\n",
       "    }\n",
       "\n",
       "    .dataframe tbody tr th {\n",
       "        vertical-align: top;\n",
       "    }\n",
       "\n",
       "    .dataframe thead th {\n",
       "        text-align: right;\n",
       "    }\n",
       "</style>\n",
       "<table border=\"1\" class=\"dataframe\">\n",
       "  <thead>\n",
       "    <tr style=\"text-align: right;\">\n",
       "      <th></th>\n",
       "      <th>ObservationId</th>\n",
       "      <th>ClassId</th>\n",
       "    </tr>\n",
       "  </thead>\n",
       "  <tbody>\n",
       "    <tr>\n",
       "      <th>3833</th>\n",
       "      <td>3027625304</td>\n",
       "      <td>-1</td>\n",
       "    </tr>\n",
       "    <tr>\n",
       "      <th>32371</th>\n",
       "      <td>3355967414</td>\n",
       "      <td>-1</td>\n",
       "    </tr>\n",
       "    <tr>\n",
       "      <th>38199</th>\n",
       "      <td>3380898495</td>\n",
       "      <td>-1</td>\n",
       "    </tr>\n",
       "    <tr>\n",
       "      <th>38521</th>\n",
       "      <td>3380901444</td>\n",
       "      <td>-1</td>\n",
       "    </tr>\n",
       "    <tr>\n",
       "      <th>45533</th>\n",
       "      <td>3392601328</td>\n",
       "      <td>-1</td>\n",
       "    </tr>\n",
       "    <tr>\n",
       "      <th>54213</th>\n",
       "      <td>3410061329</td>\n",
       "      <td>-1</td>\n",
       "    </tr>\n",
       "    <tr>\n",
       "      <th>56729</th>\n",
       "      <td>3417635304</td>\n",
       "      <td>-1</td>\n",
       "    </tr>\n",
       "  </tbody>\n",
       "</table>\n",
       "</div>"
      ],
      "text/plain": [
       "       ObservationId  ClassId\n",
       "3833      3027625304       -1\n",
       "32371     3355967414       -1\n",
       "38199     3380898495       -1\n",
       "38521     3380901444       -1\n",
       "45533     3392601328       -1\n",
       "54213     3410061329       -1\n",
       "56729     3417635304       -1"
      ]
     },
     "execution_count": 6,
     "metadata": {},
     "output_type": "execute_result"
    }
   ],
   "source": [
    "submit[submit.ClassId==-1]"
   ]
  },
  {
   "cell_type": "code",
   "execution_count": null,
   "metadata": {},
   "outputs": [],
   "source": []
  }
 ],
 "metadata": {
  "interpreter": {
   "hash": "db61d63db2f74d76b6b380db49779de52de834e45f2a4c164e259a0a73cc0a92"
  },
  "kernelspec": {
   "display_name": "Python 3.8.5 ('lkd22')",
   "language": "python",
   "name": "python3"
  },
  "language_info": {
   "codemirror_mode": {
    "name": "ipython",
    "version": 3
   },
   "file_extension": ".py",
   "mimetype": "text/x-python",
   "name": "python",
   "nbconvert_exporter": "python",
   "pygments_lexer": "ipython3",
   "version": "3.8.5"
  },
  "orig_nbformat": 4
 },
 "nbformat": 4,
 "nbformat_minor": 2
}
